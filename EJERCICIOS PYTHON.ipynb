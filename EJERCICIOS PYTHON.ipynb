{
 "cells": [
  {
   "cell_type": "code",
   "execution_count": 1,
   "metadata": {},
   "outputs": [
    {
     "name": "stdout",
     "output_type": "stream",
     "text": [
      "Hola mundo!!\n"
     ]
    }
   ],
   "source": [
    "print(\"Hola mundo!!\")"
   ]
  },
  {
   "cell_type": "code",
   "execution_count": 3,
   "metadata": {},
   "outputs": [
    {
     "name": "stdout",
     "output_type": "stream",
     "text": [
      "Introduce tu nombre:Javier\n",
      "Introduce tu matricula1723152\n",
      "Javier 1723152\n",
      "Datos del alumno,  Nombre: Javier , Matricula: 1723152\n"
     ]
    }
   ],
   "source": [
    "# EJERCICIO 1\n",
    "nom = str(input(\"Introduce tu nombre:\"))\n",
    "mat = int(input(\"Introduce tu matricula\"))\n",
    "print(nom+\" \"+str(mat)) # concatena nombre y matricula agregando espacio\n",
    "print(\"Datos del alumno, \",\"Nombre:\",nom,\", Matricula:\",mat)"
   ]
  },
  {
   "cell_type": "code",
   "execution_count": 6,
   "metadata": {},
   "outputs": [
    {
     "name": "stdout",
     "output_type": "stream",
     "text": [
      "Calculadora de 2 numeros A y B\n",
      "Ingrese el numero A: 3.4\n",
      "Ingrese el numero B: -32\n",
      "Calculos con A y B\n",
      "1- Suma A+B =  -28.6\n",
      "2- Resta A-B =  35.4\n",
      "3- Resta B-A =  -35.4\n",
      "4- Multiplicacion A*B =  -108.8\n",
      "5- Division A/B =  -0.10625\n",
      "6- Division B/A =  -9.411764705882353\n",
      "7- Division A**B =  9.83274224295618e-18\n",
      "8- Division B**A = (-40503.47548671315-124656.8797038383j)\n"
     ]
    }
   ],
   "source": [
    "#EJERCICIO 2\n",
    "print(\"Calculadora de 2 numeros A y B\")\n",
    "na=float(input(\"Ingrese el numero A: \"))\n",
    "nb=float(input(\"Ingrese el numero B: \"))\n",
    "print(\"Calculos con A y B\")\n",
    "print(\"1- Suma A+B = \", na+nb)\n",
    "print(\"2- Resta A-B = \", na-nb)\n",
    "print(\"3- Resta B-A = \", nb-na )                 # realiza las todas operaciones basicas con A Y B autoamticamente\n",
    "print(\"4- Multiplicacion A*B = \", na*nb )\n",
    "print(\"5- Division A/B = \", na/nb )\n",
    "print(\"6- Division B/A = \", nb/na )\n",
    "print(\"7- Division A**B = \", na**nb )\n",
    "print(\"8- Division B**A =\", nb**na )\n"
   ]
  },
  {
   "cell_type": "code",
   "execution_count": 37,
   "metadata": {},
   "outputs": [
    {
     "name": "stdout",
     "output_type": "stream",
     "text": [
      "[3, 6, 9, 12, 15, 18, 21, 24, 27, 30]\n",
      "165\n"
     ]
    }
   ],
   "source": [
    "#EJERCICIO 3\n",
    "# lista=[10,4,5,2,6,3,2,6,5,1] ---- como definir mi lista\n",
    "# print(lista[0]) ------ imprimir elemento de lista\n",
    "#https://www.mclibre.org/consultar/python/lecciones/python-listas.html\n",
    "x = range(3, 33, 3)\n",
    "i=0\n",
    "for n in x:\n",
    "    \n",
    "    lista[i]=n   #crea lista con numeros multiplo de 3\n",
    "    i=i+1\n",
    "    \n",
    "print(lista)\n",
    "s=0\n",
    "j=0\n",
    "for j in range(0,10):\n",
    "    s=s+lista[j]   #suma los numeros de la lista\n",
    "    j=j+1\n",
    "print(s)    "
   ]
  },
  {
   "cell_type": "code",
   "execution_count": 71,
   "metadata": {},
   "outputs": [
    {
     "name": "stdout",
     "output_type": "stream",
     "text": [
      "Ingrese un numero entero: 1\n",
      "el numero es impar\n",
      "El numero es primo\n"
     ]
    }
   ],
   "source": [
    "#EJERCICIO 4\n",
    "#https://ellibrodepython.com/numeros-primos-python\n",
    "\n",
    "nm=int(input(\"Ingrese un numero entero: \"))  #identifica numero par o impar\n",
    "if nm%2==0:\n",
    "    print(\"el numero es par\")\n",
    "else: \n",
    "    print(\"el numero es impar\")\n",
    "t=0 \n",
    "for n in range(2, nm): \n",
    "    if nm % n == 0: \n",
    "        print(\"No es primo\", n, \"es divisor\") #identifica numero no primo\n",
    "        t=4\n",
    "if t!=4:\n",
    "    print(\"El numero es primo\")\n",
    "        \n",
    "        \n",
    "        \n",
    "        \n",
    "\n",
    "    \n",
    "\n",
    "        \n",
    "  \n",
    "    \n",
    " "
   ]
  },
  {
   "cell_type": "code",
   "execution_count": null,
   "metadata": {},
   "outputs": [],
   "source": []
  },
  {
   "cell_type": "code",
   "execution_count": null,
   "metadata": {},
   "outputs": [],
   "source": []
  }
 ],
 "metadata": {
  "kernelspec": {
   "display_name": "Python 3",
   "language": "python",
   "name": "python3"
  },
  "language_info": {
   "codemirror_mode": {
    "name": "ipython",
    "version": 3
   },
   "file_extension": ".py",
   "mimetype": "text/x-python",
   "name": "python",
   "nbconvert_exporter": "python",
   "pygments_lexer": "ipython3",
   "version": "3.8.3"
  }
 },
 "nbformat": 4,
 "nbformat_minor": 4
}
