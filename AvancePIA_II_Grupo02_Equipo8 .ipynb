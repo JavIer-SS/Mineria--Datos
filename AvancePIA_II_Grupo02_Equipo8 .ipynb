{
 "cells": [
  {
   "cell_type": "markdown",
   "metadata": {},
   "source": [
    "Equipo: 8 \n",
    "Grupo: 002 , Clase: Miércoles 6pm-9pm   \n",
    "Integrantes:    \n",
    "1723152, Javier Eduardo Salazar Segura.  \n",
    "1806169, Víctor Hugo Cantú Chávez.  \n",
    "1735532, Damián Atilano Martínez Alvarado.  \n",
    "\n",
    "# 1)\tTítulo de la base de datos.\n",
    "\n",
    "\n",
    "a)\tNombre con el que se encuentra en la página encontrada.\n",
    "\n",
    "    International football results from 1872 to 2020\n",
    "    \n",
    "b)\tUrl de la página. \n",
    "    https://www.kaggle.com/martj42/international-football-results-from-1872-to-2017\n",
    "    \n",
    "    \n",
    "    \n",
    "    \n",
    "    \n",
    "\n"
   ]
  },
  {
   "cell_type": "markdown",
   "metadata": {},
   "source": [
    " # 2) Descripción de los datos.\n",
    "\n",
    "Tabla con distinta datos sobre los resultados de partidos de futbol de selecciones nacionales. \n",
    "\n",
    "\t|date     |   object| \n",
    "\t|local    |   object|\n",
    "\t|visita   |   object|\n",
    "\t|gol_home |    int64|\n",
    "\t|gol_away |    int64|\n",
    "\t|torneo   |   object|\n",
    "\t|city     |   object|  \n",
    "\t|pais     |   object|\n",
    "\t|neutral  |     bool|\n",
    "\n",
    "La mayoría  las columnas tienen  datos que son cadenas de caracteres, ya que son nombres de países, ciudades, torneos y selecciones nacionales. La columna neutral, que se refiere a si el partido se jugo en un país distinto al del equipo local y visitante. Es de valores booleano. Las columnas correspondientes al número de goles ( gol_home, gol_away) son de valores enteros. \n",
    "\n",
    "Para el proyecto generamos 2 bases de datos a partir de esta. Pero todas conservan el mismo formato, nombre de columnas y tipos de datos por columna\n",
    "\n",
    "\n",
    "\n",
    "\n",
    "Se revisó que no haya datos nulos que entorpezcan la base de datos usando: \n",
    " \n",
    "Data.isnull.any(); \n",
    "\n",
    "    |date     |   False| \n",
    "\t|local    |   False|\n",
    "\t|visita   |   False|\n",
    "\t|gol_home |   False|\n",
    "\t|gol_away |   False|\n",
    "\t|torneo   |   False|\n",
    "\t|city     |   False|  \n",
    "\t|pais     |   False|\n",
    "\t|neutral  |   False|\n",
    "dtype: bool\n",
    "\n",
    "No hay datos nulos en la base de datos principal ni ninguna de las 3 bases de datos que generamos a partir de esta.\n",
    "\n",
    "Se decidió no eliminar ninguna columna ya que todas tienen datos relevantes y ninguna tiene algún inconveniente que entorpezca el estudio como datos nulos o filas vacías. Por eso se conservarán todas las columnas.\n",
    " \n",
    " \n"
   ]
  },
  {
   "cell_type": "markdown",
   "metadata": {},
   "source": [
    "\n",
    "# 3)\tJustificación del uso de datos. \n",
    "\n",
    "Es una base de datos muy completa para lo que queremos analizar tiene todos los datos que podemos analizar fácilmente sobre un partido de futbol, desde el numero de goles, la fecha, el torneo y el lugar exacto donde se jugó. \n",
    "Es una base de datos muy bien ordenada y consistente con información correcta para desarrollar proyectos de minería de datos que busquen patrones relacionados al resultado de un partido de futbol. \n",
    "\n",
    "Además de ser información muy útil y completa, es de dominio público y tiene una valoración de 10 en su usabilidad en la página de Kaggle, es una base de datos apta para obtener la información que pretendemos usar.\n",
    "\n"
   ]
  },
  {
   "cell_type": "markdown",
   "metadata": {},
   "source": [
    "# 4)\tObjetivo final. \n",
    "\n",
    "El objetivo principal es poder estimar la  probabilidad del margen de victoria de México en caso de que gane un partido tanto para el caso local como el de visitante.  \n",
    "\n",
    "El objetivo secundario es visuailizar  la probabilidad empirica que tiene México  de ganar un partido en el caso local y el caso como visitante.\n",
    "\n"
   ]
  },
  {
   "cell_type": "markdown",
   "metadata": {},
   "source": [
    "# 5)\tPreguntas de interés\n",
    "\n",
    "1- ¿Cómo es la probabilidad del margen de victoria cuando México gana un partido? Se analiza caso local y caso visitante por separado.\n",
    "\n",
    "2- ¿Cuál es el estado reciente  de la probabilidad empírica de que México gane un partido? (proporcion de victorias / partidos jugados), para el caso local y el caso visitante.\n",
    "\n",
    "\n",
    "\n"
   ]
  },
  {
   "cell_type": "markdown",
   "metadata": {},
   "source": [
    "# 6)    Limpieza de datos\n",
    "\n",
    "   Primero importamos las librerías pandas y numpy.\n",
    "   Además se hace la lectura del archivo CSV que se descargó desde Kaggle.\n",
    "   Se usa datafr.head() para verificar la lectura correcta."
   ]
  },
  {
   "cell_type": "code",
   "execution_count": 2,
   "metadata": {},
   "outputs": [
    {
     "data": {
      "text/html": [
       "<div>\n",
       "<style scoped>\n",
       "    .dataframe tbody tr th:only-of-type {\n",
       "        vertical-align: middle;\n",
       "    }\n",
       "\n",
       "    .dataframe tbody tr th {\n",
       "        vertical-align: top;\n",
       "    }\n",
       "\n",
       "    .dataframe thead th {\n",
       "        text-align: right;\n",
       "    }\n",
       "</style>\n",
       "<table border=\"1\" class=\"dataframe\">\n",
       "  <thead>\n",
       "    <tr style=\"text-align: right;\">\n",
       "      <th></th>\n",
       "      <th>date</th>\n",
       "      <th>home_team</th>\n",
       "      <th>away_team</th>\n",
       "      <th>home_score</th>\n",
       "      <th>away_score</th>\n",
       "      <th>tournament</th>\n",
       "      <th>city</th>\n",
       "      <th>country</th>\n",
       "      <th>neutral</th>\n",
       "    </tr>\n",
       "  </thead>\n",
       "  <tbody>\n",
       "    <tr>\n",
       "      <th>0</th>\n",
       "      <td>1872-11-30</td>\n",
       "      <td>Scotland</td>\n",
       "      <td>England</td>\n",
       "      <td>0</td>\n",
       "      <td>0</td>\n",
       "      <td>Friendly</td>\n",
       "      <td>Glasgow</td>\n",
       "      <td>Scotland</td>\n",
       "      <td>False</td>\n",
       "    </tr>\n",
       "    <tr>\n",
       "      <th>1</th>\n",
       "      <td>1873-03-08</td>\n",
       "      <td>England</td>\n",
       "      <td>Scotland</td>\n",
       "      <td>4</td>\n",
       "      <td>2</td>\n",
       "      <td>Friendly</td>\n",
       "      <td>London</td>\n",
       "      <td>England</td>\n",
       "      <td>False</td>\n",
       "    </tr>\n",
       "    <tr>\n",
       "      <th>2</th>\n",
       "      <td>1874-03-07</td>\n",
       "      <td>Scotland</td>\n",
       "      <td>England</td>\n",
       "      <td>2</td>\n",
       "      <td>1</td>\n",
       "      <td>Friendly</td>\n",
       "      <td>Glasgow</td>\n",
       "      <td>Scotland</td>\n",
       "      <td>False</td>\n",
       "    </tr>\n",
       "    <tr>\n",
       "      <th>3</th>\n",
       "      <td>1875-03-06</td>\n",
       "      <td>England</td>\n",
       "      <td>Scotland</td>\n",
       "      <td>2</td>\n",
       "      <td>2</td>\n",
       "      <td>Friendly</td>\n",
       "      <td>London</td>\n",
       "      <td>England</td>\n",
       "      <td>False</td>\n",
       "    </tr>\n",
       "    <tr>\n",
       "      <th>4</th>\n",
       "      <td>1876-03-04</td>\n",
       "      <td>Scotland</td>\n",
       "      <td>England</td>\n",
       "      <td>3</td>\n",
       "      <td>0</td>\n",
       "      <td>Friendly</td>\n",
       "      <td>Glasgow</td>\n",
       "      <td>Scotland</td>\n",
       "      <td>False</td>\n",
       "    </tr>\n",
       "  </tbody>\n",
       "</table>\n",
       "</div>"
      ],
      "text/plain": [
       "         date home_team away_team  home_score  away_score tournament     city  \\\n",
       "0  1872-11-30  Scotland   England           0           0   Friendly  Glasgow   \n",
       "1  1873-03-08   England  Scotland           4           2   Friendly   London   \n",
       "2  1874-03-07  Scotland   England           2           1   Friendly  Glasgow   \n",
       "3  1875-03-06   England  Scotland           2           2   Friendly   London   \n",
       "4  1876-03-04  Scotland   England           3           0   Friendly  Glasgow   \n",
       "\n",
       "    country  neutral  \n",
       "0  Scotland    False  \n",
       "1   England    False  \n",
       "2  Scotland    False  \n",
       "3   England    False  \n",
       "4  Scotland    False  "
      ]
     },
     "execution_count": 2,
     "metadata": {},
     "output_type": "execute_result"
    }
   ],
   "source": [
    "import pandas as pd\n",
    "import numpy as np\n",
    "datafr=pd.read_csv(\"results.csv\")\n",
    "datafr.head()"
   ]
  },
  {
   "cell_type": "markdown",
   "metadata": {},
   "source": [
    " Se procede a cambiar los nombres de algunas columnas para hacerlos más cortos y fácil de entender. Guardando el nuevo datafrme con los nombres nuevos en las columnas en la variable datasp.\n",
    " Se revisa que no haya datos nulos en los datos originales."
   ]
  },
  {
   "cell_type": "code",
   "execution_count": 3,
   "metadata": {},
   "outputs": [
    {
     "data": {
      "text/plain": [
       "date        False\n",
       "local       False\n",
       "visita      False\n",
       "gol_home    False\n",
       "gol_away    False\n",
       "torneo      False\n",
       "city        False\n",
       "pais        False\n",
       "neutral     False\n",
       "dtype: bool"
      ]
     },
     "execution_count": 3,
     "metadata": {},
     "output_type": "execute_result"
    }
   ],
   "source": [
    "# Haciendo los nombres de las columnas más cortos.\n",
    "datasp=datafr.rename(columns = {'home_team':'local','away_team':'visita','home_score':'gol_home','away_score':'gol_away','tournament':'torneo','tournament':'torneo','country':'pais'})\n",
    "#### buscando datos nulos para eliminarlos ya que afectan el analisis\n",
    "datasp.isnull().any()\n",
    "\n",
    "\n"
   ]
  },
  {
   "cell_type": "markdown",
   "metadata": {},
   "source": [
    "Confirmado que no hay datos nulos, ahora se verificará que el tipo de dato tenga sentido con lo registrado en la tabla."
   ]
  },
  {
   "cell_type": "code",
   "execution_count": 4,
   "metadata": {},
   "outputs": [
    {
     "data": {
      "text/plain": [
       "date        object\n",
       "local       object\n",
       "visita      object\n",
       "gol_home     int64\n",
       "gol_away     int64\n",
       "torneo      object\n",
       "city        object\n",
       "pais        object\n",
       "neutral       bool\n",
       "dtype: object"
      ]
     },
     "execution_count": 4,
     "metadata": {},
     "output_type": "execute_result"
    }
   ],
   "source": [
    "# No hay datos nulos\n",
    "# viendo tipos de datos de las columnas\n",
    "datasp.dtypes"
   ]
  },
  {
   "cell_type": "markdown",
   "metadata": {},
   "source": [
    "Se confirma que todos los tipos de datos son coherentes con lo registrado en la tabla. Se compone de cadenas de caracteres (object), de valores enteros (int64) para el número de goles de cada equipo.\n",
    "Además se muestra el contenido de la variable datasp para verificar el cambio de nombre en las columnas."
   ]
  },
  {
   "cell_type": "code",
   "execution_count": 5,
   "metadata": {},
   "outputs": [
    {
     "data": {
      "text/html": [
       "<div>\n",
       "<style scoped>\n",
       "    .dataframe tbody tr th:only-of-type {\n",
       "        vertical-align: middle;\n",
       "    }\n",
       "\n",
       "    .dataframe tbody tr th {\n",
       "        vertical-align: top;\n",
       "    }\n",
       "\n",
       "    .dataframe thead th {\n",
       "        text-align: right;\n",
       "    }\n",
       "</style>\n",
       "<table border=\"1\" class=\"dataframe\">\n",
       "  <thead>\n",
       "    <tr style=\"text-align: right;\">\n",
       "      <th></th>\n",
       "      <th>date</th>\n",
       "      <th>local</th>\n",
       "      <th>visita</th>\n",
       "      <th>gol_home</th>\n",
       "      <th>gol_away</th>\n",
       "      <th>torneo</th>\n",
       "      <th>city</th>\n",
       "      <th>pais</th>\n",
       "      <th>neutral</th>\n",
       "    </tr>\n",
       "  </thead>\n",
       "  <tbody>\n",
       "    <tr>\n",
       "      <th>0</th>\n",
       "      <td>1872-11-30</td>\n",
       "      <td>Scotland</td>\n",
       "      <td>England</td>\n",
       "      <td>0</td>\n",
       "      <td>0</td>\n",
       "      <td>Friendly</td>\n",
       "      <td>Glasgow</td>\n",
       "      <td>Scotland</td>\n",
       "      <td>False</td>\n",
       "    </tr>\n",
       "    <tr>\n",
       "      <th>1</th>\n",
       "      <td>1873-03-08</td>\n",
       "      <td>England</td>\n",
       "      <td>Scotland</td>\n",
       "      <td>4</td>\n",
       "      <td>2</td>\n",
       "      <td>Friendly</td>\n",
       "      <td>London</td>\n",
       "      <td>England</td>\n",
       "      <td>False</td>\n",
       "    </tr>\n",
       "    <tr>\n",
       "      <th>2</th>\n",
       "      <td>1874-03-07</td>\n",
       "      <td>Scotland</td>\n",
       "      <td>England</td>\n",
       "      <td>2</td>\n",
       "      <td>1</td>\n",
       "      <td>Friendly</td>\n",
       "      <td>Glasgow</td>\n",
       "      <td>Scotland</td>\n",
       "      <td>False</td>\n",
       "    </tr>\n",
       "    <tr>\n",
       "      <th>3</th>\n",
       "      <td>1875-03-06</td>\n",
       "      <td>England</td>\n",
       "      <td>Scotland</td>\n",
       "      <td>2</td>\n",
       "      <td>2</td>\n",
       "      <td>Friendly</td>\n",
       "      <td>London</td>\n",
       "      <td>England</td>\n",
       "      <td>False</td>\n",
       "    </tr>\n",
       "    <tr>\n",
       "      <th>4</th>\n",
       "      <td>1876-03-04</td>\n",
       "      <td>Scotland</td>\n",
       "      <td>England</td>\n",
       "      <td>3</td>\n",
       "      <td>0</td>\n",
       "      <td>Friendly</td>\n",
       "      <td>Glasgow</td>\n",
       "      <td>Scotland</td>\n",
       "      <td>False</td>\n",
       "    </tr>\n",
       "  </tbody>\n",
       "</table>\n",
       "</div>"
      ],
      "text/plain": [
       "         date     local    visita  gol_home  gol_away    torneo     city  \\\n",
       "0  1872-11-30  Scotland   England         0         0  Friendly  Glasgow   \n",
       "1  1873-03-08   England  Scotland         4         2  Friendly   London   \n",
       "2  1874-03-07  Scotland   England         2         1  Friendly  Glasgow   \n",
       "3  1875-03-06   England  Scotland         2         2  Friendly   London   \n",
       "4  1876-03-04  Scotland   England         3         0  Friendly  Glasgow   \n",
       "\n",
       "       pais  neutral  \n",
       "0  Scotland    False  \n",
       "1   England    False  \n",
       "2  Scotland    False  \n",
       "3   England    False  \n",
       "4  Scotland    False  "
      ]
     },
     "execution_count": 5,
     "metadata": {},
     "output_type": "execute_result"
    }
   ],
   "source": [
    "## todos los tipos de datos son correctos\n",
    "### observando cambio de nombre en las columnas\n",
    "datasp.head()"
   ]
  },
  {
   "cell_type": "markdown",
   "metadata": {},
   "source": [
    "Se filtran los datos originales para obtener unicamente los datos de los partidos de la selección de México, estos datos se usarán para el estudio que busca responder la pregunta de interés 1.\n",
    "\n",
    "Se destaca el uso de la función pd.concat. Esta solución se encontró en el foro de stackoverflow. \n",
    "Se anexa la url: https://stackoverflow.com/questions/12850345/how-do-i-combine-two-dataframes"
   ]
  },
  {
   "cell_type": "code",
   "execution_count": 6,
   "metadata": {},
   "outputs": [],
   "source": [
    "## filtrando para obtener solo los partidos de la seleccion de MEXICO ya que es el equipo del cual analizaremos sus resultados\n",
    "datasp[datasp['local']=='Mexico']\n",
    "datasp[datasp['visita']=='Mexico']\n",
    "datamx=pd.concat([datasp[datasp['local']=='Mexico'],datasp[datasp['visita']=='Mexico'] ], ignore_index=True, sort=False)\n",
    "\n",
    "\n",
    "datamx.to_csv('Solo_Mex.csv', index=False)\n",
    "# se procesaron los datos de Solo_Mex.csv utilizando excel para definir si la seleccion de mexico ganó perdió o empató , se uso excel ya que carezco de concoimiento para hacer esta tarea en python y necesitaba optimizar tiempo\n",
    "datamx=pd.read_csv(\"smex.csv\")\n",
    "\n",
    "datamx.to_csv(\"Solo_Mex.csv\",index= False )\n",
    "\n",
    "# Se encontro la forma para concatenar los data frame en https://stackoverflow.com/questions/12850345/how-do-i-combine-two-dataframes"
   ]
  },
  {
   "cell_type": "markdown",
   "metadata": {},
   "source": [
    "Se usa data.shape para verificar la reducción de la base datos respecto a la original."
   ]
  },
  {
   "cell_type": "code",
   "execution_count": 7,
   "metadata": {},
   "outputs": [
    {
     "data": {
      "text/plain": [
       "(873, 14)"
      ]
     },
     "execution_count": 7,
     "metadata": {},
     "output_type": "execute_result"
    }
   ],
   "source": [
    "# viendo el numero de ilas y columnas de la base de datos de Mexico\n",
    "datamx.shape\n"
   ]
  },
  {
   "cell_type": "markdown",
   "metadata": {},
   "source": [
    "A continuación se muestra el contenido de datamx para verificar que estén los datos de los partidos de México tanto de local como de visitante.\n",
    "\n",
    "También se verifica que no haya datos nulos en la nueva tabla, se compara las dimensiones de datasp y datamx. Se verifican los tipos de datos de datamx."
   ]
  },
  {
   "cell_type": "code",
   "execution_count": 8,
   "metadata": {},
   "outputs": [
    {
     "data": {
      "text/html": [
       "<div>\n",
       "<style scoped>\n",
       "    .dataframe tbody tr th:only-of-type {\n",
       "        vertical-align: middle;\n",
       "    }\n",
       "\n",
       "    .dataframe tbody tr th {\n",
       "        vertical-align: top;\n",
       "    }\n",
       "\n",
       "    .dataframe thead th {\n",
       "        text-align: right;\n",
       "    }\n",
       "</style>\n",
       "<table border=\"1\" class=\"dataframe\">\n",
       "  <thead>\n",
       "    <tr style=\"text-align: right;\">\n",
       "      <th></th>\n",
       "      <th>date</th>\n",
       "      <th>local</th>\n",
       "      <th>visita</th>\n",
       "      <th>gol_home</th>\n",
       "      <th>gol_away</th>\n",
       "      <th>torneo</th>\n",
       "      <th>city</th>\n",
       "      <th>pais</th>\n",
       "      <th>neutral</th>\n",
       "      <th>df</th>\n",
       "      <th>vic</th>\n",
       "      <th>gana</th>\n",
       "      <th>pierde</th>\n",
       "      <th>empata</th>\n",
       "    </tr>\n",
       "  </thead>\n",
       "  <tbody>\n",
       "    <tr>\n",
       "      <th>0</th>\n",
       "      <td>9/12/1923</td>\n",
       "      <td>Mexico</td>\n",
       "      <td>Guatemala</td>\n",
       "      <td>2</td>\n",
       "      <td>1</td>\n",
       "      <td>Friendly</td>\n",
       "      <td>Mexico City</td>\n",
       "      <td>Mexico</td>\n",
       "      <td>FALSO</td>\n",
       "      <td>1</td>\n",
       "      <td>1</td>\n",
       "      <td>1</td>\n",
       "      <td>0</td>\n",
       "      <td>0</td>\n",
       "    </tr>\n",
       "    <tr>\n",
       "      <th>1</th>\n",
       "      <td>12/12/1923</td>\n",
       "      <td>Mexico</td>\n",
       "      <td>Guatemala</td>\n",
       "      <td>2</td>\n",
       "      <td>0</td>\n",
       "      <td>Friendly</td>\n",
       "      <td>Mexico City</td>\n",
       "      <td>Mexico</td>\n",
       "      <td>FALSO</td>\n",
       "      <td>2</td>\n",
       "      <td>1</td>\n",
       "      <td>1</td>\n",
       "      <td>0</td>\n",
       "      <td>0</td>\n",
       "    </tr>\n",
       "    <tr>\n",
       "      <th>2</th>\n",
       "      <td>16/12/1923</td>\n",
       "      <td>Mexico</td>\n",
       "      <td>Guatemala</td>\n",
       "      <td>3</td>\n",
       "      <td>3</td>\n",
       "      <td>Friendly</td>\n",
       "      <td>Mexico City</td>\n",
       "      <td>Mexico</td>\n",
       "      <td>FALSO</td>\n",
       "      <td>0</td>\n",
       "      <td>3</td>\n",
       "      <td>0</td>\n",
       "      <td>0</td>\n",
       "      <td>1</td>\n",
       "    </tr>\n",
       "    <tr>\n",
       "      <th>3</th>\n",
       "      <td>4/3/1934</td>\n",
       "      <td>Mexico</td>\n",
       "      <td>Cuba</td>\n",
       "      <td>3</td>\n",
       "      <td>2</td>\n",
       "      <td>FIFA World Cup qualification</td>\n",
       "      <td>Mexico City</td>\n",
       "      <td>Mexico</td>\n",
       "      <td>FALSO</td>\n",
       "      <td>1</td>\n",
       "      <td>1</td>\n",
       "      <td>1</td>\n",
       "      <td>0</td>\n",
       "      <td>0</td>\n",
       "    </tr>\n",
       "    <tr>\n",
       "      <th>4</th>\n",
       "      <td>11/3/1934</td>\n",
       "      <td>Mexico</td>\n",
       "      <td>Cuba</td>\n",
       "      <td>5</td>\n",
       "      <td>0</td>\n",
       "      <td>FIFA World Cup qualification</td>\n",
       "      <td>Mexico City</td>\n",
       "      <td>Mexico</td>\n",
       "      <td>FALSO</td>\n",
       "      <td>5</td>\n",
       "      <td>1</td>\n",
       "      <td>1</td>\n",
       "      <td>0</td>\n",
       "      <td>0</td>\n",
       "    </tr>\n",
       "  </tbody>\n",
       "</table>\n",
       "</div>"
      ],
      "text/plain": [
       "         date   local     visita  gol_home  gol_away  \\\n",
       "0   9/12/1923  Mexico  Guatemala         2         1   \n",
       "1  12/12/1923  Mexico  Guatemala         2         0   \n",
       "2  16/12/1923  Mexico  Guatemala         3         3   \n",
       "3    4/3/1934  Mexico       Cuba         3         2   \n",
       "4   11/3/1934  Mexico       Cuba         5         0   \n",
       "\n",
       "                         torneo         city    pais neutral  df  vic  gana  \\\n",
       "0                      Friendly  Mexico City  Mexico   FALSO   1    1     1   \n",
       "1                      Friendly  Mexico City  Mexico   FALSO   2    1     1   \n",
       "2                      Friendly  Mexico City  Mexico   FALSO   0    3     0   \n",
       "3  FIFA World Cup qualification  Mexico City  Mexico   FALSO   1    1     1   \n",
       "4  FIFA World Cup qualification  Mexico City  Mexico   FALSO   5    1     1   \n",
       "\n",
       "   pierde  empata  \n",
       "0       0       0  \n",
       "1       0       0  \n",
       "2       0       1  \n",
       "3       0       0  \n",
       "4       0       0  "
      ]
     },
     "execution_count": 8,
     "metadata": {},
     "output_type": "execute_result"
    }
   ],
   "source": [
    "#Observando la base de datos de mexico\n",
    "datamx.head()"
   ]
  },
  {
   "cell_type": "code",
   "execution_count": 9,
   "metadata": {},
   "outputs": [
    {
     "data": {
      "text/html": [
       "<div>\n",
       "<style scoped>\n",
       "    .dataframe tbody tr th:only-of-type {\n",
       "        vertical-align: middle;\n",
       "    }\n",
       "\n",
       "    .dataframe tbody tr th {\n",
       "        vertical-align: top;\n",
       "    }\n",
       "\n",
       "    .dataframe thead th {\n",
       "        text-align: right;\n",
       "    }\n",
       "</style>\n",
       "<table border=\"1\" class=\"dataframe\">\n",
       "  <thead>\n",
       "    <tr style=\"text-align: right;\">\n",
       "      <th></th>\n",
       "      <th>date</th>\n",
       "      <th>local</th>\n",
       "      <th>visita</th>\n",
       "      <th>gol_home</th>\n",
       "      <th>gol_away</th>\n",
       "      <th>torneo</th>\n",
       "      <th>city</th>\n",
       "      <th>pais</th>\n",
       "      <th>neutral</th>\n",
       "      <th>df</th>\n",
       "      <th>vic</th>\n",
       "      <th>gana</th>\n",
       "      <th>pierde</th>\n",
       "      <th>empata</th>\n",
       "    </tr>\n",
       "  </thead>\n",
       "  <tbody>\n",
       "    <tr>\n",
       "      <th>868</th>\n",
       "      <td>10/9/2019</td>\n",
       "      <td>Argentina</td>\n",
       "      <td>Mexico</td>\n",
       "      <td>4</td>\n",
       "      <td>0</td>\n",
       "      <td>Friendly</td>\n",
       "      <td>San Antonio</td>\n",
       "      <td>United States</td>\n",
       "      <td>VERDADERO</td>\n",
       "      <td>4</td>\n",
       "      <td>2</td>\n",
       "      <td>0</td>\n",
       "      <td>1</td>\n",
       "      <td>0</td>\n",
       "    </tr>\n",
       "    <tr>\n",
       "      <th>869</th>\n",
       "      <td>11/10/2019</td>\n",
       "      <td>Bermuda</td>\n",
       "      <td>Mexico</td>\n",
       "      <td>1</td>\n",
       "      <td>5</td>\n",
       "      <td>CONCACAF Nations League</td>\n",
       "      <td>Hamilton</td>\n",
       "      <td>Bermuda</td>\n",
       "      <td>FALSO</td>\n",
       "      <td>-4</td>\n",
       "      <td>1</td>\n",
       "      <td>1</td>\n",
       "      <td>0</td>\n",
       "      <td>0</td>\n",
       "    </tr>\n",
       "    <tr>\n",
       "      <th>870</th>\n",
       "      <td>15/11/2019</td>\n",
       "      <td>Panama</td>\n",
       "      <td>Mexico</td>\n",
       "      <td>0</td>\n",
       "      <td>3</td>\n",
       "      <td>CONCACAF Nations League</td>\n",
       "      <td>Panama City</td>\n",
       "      <td>Panama</td>\n",
       "      <td>FALSO</td>\n",
       "      <td>-3</td>\n",
       "      <td>1</td>\n",
       "      <td>1</td>\n",
       "      <td>0</td>\n",
       "      <td>0</td>\n",
       "    </tr>\n",
       "    <tr>\n",
       "      <th>871</th>\n",
       "      <td>7/10/2020</td>\n",
       "      <td>Netherlands</td>\n",
       "      <td>Mexico</td>\n",
       "      <td>0</td>\n",
       "      <td>1</td>\n",
       "      <td>Friendly</td>\n",
       "      <td>Amsterdam</td>\n",
       "      <td>Netherlands</td>\n",
       "      <td>FALSO</td>\n",
       "      <td>-1</td>\n",
       "      <td>1</td>\n",
       "      <td>1</td>\n",
       "      <td>0</td>\n",
       "      <td>0</td>\n",
       "    </tr>\n",
       "    <tr>\n",
       "      <th>872</th>\n",
       "      <td>17/11/2020</td>\n",
       "      <td>Japan</td>\n",
       "      <td>Mexico</td>\n",
       "      <td>0</td>\n",
       "      <td>2</td>\n",
       "      <td>Friendly</td>\n",
       "      <td>Graz</td>\n",
       "      <td>Austria</td>\n",
       "      <td>VERDADERO</td>\n",
       "      <td>-2</td>\n",
       "      <td>1</td>\n",
       "      <td>1</td>\n",
       "      <td>0</td>\n",
       "      <td>0</td>\n",
       "    </tr>\n",
       "  </tbody>\n",
       "</table>\n",
       "</div>"
      ],
      "text/plain": [
       "           date        local  visita  gol_home  gol_away  \\\n",
       "868   10/9/2019    Argentina  Mexico         4         0   \n",
       "869  11/10/2019      Bermuda  Mexico         1         5   \n",
       "870  15/11/2019       Panama  Mexico         0         3   \n",
       "871   7/10/2020  Netherlands  Mexico         0         1   \n",
       "872  17/11/2020        Japan  Mexico         0         2   \n",
       "\n",
       "                      torneo         city           pais    neutral  df  vic  \\\n",
       "868                 Friendly  San Antonio  United States  VERDADERO   4    2   \n",
       "869  CONCACAF Nations League     Hamilton        Bermuda      FALSO  -4    1   \n",
       "870  CONCACAF Nations League  Panama City         Panama      FALSO  -3    1   \n",
       "871                 Friendly    Amsterdam    Netherlands      FALSO  -1    1   \n",
       "872                 Friendly         Graz        Austria  VERDADERO  -2    1   \n",
       "\n",
       "     gana  pierde  empata  \n",
       "868     0       1       0  \n",
       "869     1       0       0  \n",
       "870     1       0       0  \n",
       "871     1       0       0  \n",
       "872     1       0       0  "
      ]
     },
     "execution_count": 9,
     "metadata": {},
     "output_type": "execute_result"
    }
   ],
   "source": [
    "#Observando la base de datos de mexico\n",
    "datamx.tail()\n"
   ]
  },
  {
   "cell_type": "code",
   "execution_count": 10,
   "metadata": {},
   "outputs": [
    {
     "data": {
      "text/plain": [
       "date        False\n",
       "local       False\n",
       "visita      False\n",
       "gol_home    False\n",
       "gol_away    False\n",
       "torneo      False\n",
       "city        False\n",
       "pais        False\n",
       "neutral     False\n",
       "df          False\n",
       "vic         False\n",
       "gana        False\n",
       "pierde      False\n",
       "empata      False\n",
       "dtype: bool"
      ]
     },
     "execution_count": 10,
     "metadata": {},
     "output_type": "execute_result"
    }
   ],
   "source": [
    "# La base de datos datamx si incluye los datos de mexico tanto de local como de visita.\n",
    "# se revisara que no haya nulos y que el tipo de datos se haya mantenido\n",
    "# buscando valores nulos\n",
    "datamx.isnull().any()"
   ]
  },
  {
   "cell_type": "code",
   "execution_count": 11,
   "metadata": {},
   "outputs": [
    {
     "data": {
      "text/plain": [
       "date        object\n",
       "local       object\n",
       "visita      object\n",
       "gol_home     int64\n",
       "gol_away     int64\n",
       "torneo      object\n",
       "city        object\n",
       "pais        object\n",
       "neutral     object\n",
       "df           int64\n",
       "vic          int64\n",
       "gana         int64\n",
       "pierde       int64\n",
       "empata       int64\n",
       "dtype: object"
      ]
     },
     "execution_count": 11,
     "metadata": {},
     "output_type": "execute_result"
    }
   ],
   "source": [
    "#revisando tipo de datos\n",
    "datamx.dtypes\n",
    "# observamos que no se tiene datos nulos y que los tipos de datos se mantuvieron por lo que los datos se filrtraron correctamente"
   ]
  },
  {
   "cell_type": "code",
   "execution_count": 12,
   "metadata": {},
   "outputs": [
    {
     "data": {
      "text/plain": [
       "<bound method DataFrame.count of              date          local       visita  gol_home  gol_away  \\\n",
       "0      1872-11-30       Scotland      England         0         0   \n",
       "1      1873-03-08        England     Scotland         4         2   \n",
       "2      1874-03-07       Scotland      England         2         1   \n",
       "3      1875-03-06        England     Scotland         2         2   \n",
       "4      1876-03-04       Scotland      England         3         0   \n",
       "...           ...            ...          ...       ...       ...   \n",
       "41871  2020-11-18         Greece     Slovenia         0         0   \n",
       "41872  2020-11-18        Albania      Belarus         3         2   \n",
       "41873  2020-11-18     Kazakhstan    Lithuania         1         2   \n",
       "41874  2020-12-04          Qatar   Bangladesh         5         0   \n",
       "41875  2020-12-09  United States  El Salvador         6         0   \n",
       "\n",
       "                             torneo             city           pais  neutral  \n",
       "0                          Friendly          Glasgow       Scotland    False  \n",
       "1                          Friendly           London        England    False  \n",
       "2                          Friendly          Glasgow       Scotland    False  \n",
       "3                          Friendly           London        England    False  \n",
       "4                          Friendly          Glasgow       Scotland    False  \n",
       "...                             ...              ...            ...      ...  \n",
       "41871           UEFA Nations League           Athens         Greece    False  \n",
       "41872           UEFA Nations League           Tirana        Albania    False  \n",
       "41873           UEFA Nations League           Almaty     Kazakhstan    False  \n",
       "41874  FIFA World Cup qualification             Doha          Qatar    False  \n",
       "41875                      Friendly  Fort Lauderdale  United States    False  \n",
       "\n",
       "[41876 rows x 9 columns]>"
      ]
     },
     "execution_count": 12,
     "metadata": {},
     "output_type": "execute_result"
    }
   ],
   "source": [
    "datasp.count"
   ]
  },
  {
   "cell_type": "code",
   "execution_count": 13,
   "metadata": {},
   "outputs": [
    {
     "data": {
      "text/plain": [
       "<bound method DataFrame.count of            date        local     visita  gol_home  gol_away  \\\n",
       "0     9/12/1923       Mexico  Guatemala         2         1   \n",
       "1    12/12/1923       Mexico  Guatemala         2         0   \n",
       "2    16/12/1923       Mexico  Guatemala         3         3   \n",
       "3      4/3/1934       Mexico       Cuba         3         2   \n",
       "4     11/3/1934       Mexico       Cuba         5         0   \n",
       "..          ...          ...        ...       ...       ...   \n",
       "868   10/9/2019    Argentina     Mexico         4         0   \n",
       "869  11/10/2019      Bermuda     Mexico         1         5   \n",
       "870  15/11/2019       Panama     Mexico         0         3   \n",
       "871   7/10/2020  Netherlands     Mexico         0         1   \n",
       "872  17/11/2020        Japan     Mexico         0         2   \n",
       "\n",
       "                           torneo         city           pais    neutral  df  \\\n",
       "0                        Friendly  Mexico City         Mexico      FALSO   1   \n",
       "1                        Friendly  Mexico City         Mexico      FALSO   2   \n",
       "2                        Friendly  Mexico City         Mexico      FALSO   0   \n",
       "3    FIFA World Cup qualification  Mexico City         Mexico      FALSO   1   \n",
       "4    FIFA World Cup qualification  Mexico City         Mexico      FALSO   5   \n",
       "..                            ...          ...            ...        ...  ..   \n",
       "868                      Friendly  San Antonio  United States  VERDADERO   4   \n",
       "869       CONCACAF Nations League     Hamilton        Bermuda      FALSO  -4   \n",
       "870       CONCACAF Nations League  Panama City         Panama      FALSO  -3   \n",
       "871                      Friendly    Amsterdam    Netherlands      FALSO  -1   \n",
       "872                      Friendly         Graz        Austria  VERDADERO  -2   \n",
       "\n",
       "     vic  gana  pierde  empata  \n",
       "0      1     1       0       0  \n",
       "1      1     1       0       0  \n",
       "2      3     0       0       1  \n",
       "3      1     1       0       0  \n",
       "4      1     1       0       0  \n",
       "..   ...   ...     ...     ...  \n",
       "868    2     0       1       0  \n",
       "869    1     1       0       0  \n",
       "870    1     1       0       0  \n",
       "871    1     1       0       0  \n",
       "872    1     1       0       0  \n",
       "\n",
       "[873 rows x 14 columns]>"
      ]
     },
     "execution_count": 13,
     "metadata": {},
     "output_type": "execute_result"
    }
   ],
   "source": [
    "datamx.count"
   ]
  },
  {
   "cell_type": "markdown",
   "metadata": {},
   "source": [
    "Se observa que en efecto, se redujo la cantidad de datos, se tienen 873 partidos de la selección de México en la base de datos de 41876 partidos. Además no hubo datos nulos después de generar datamx y los tipos de datos continuan siendo los mismos."
   ]
  },
  {
   "cell_type": "code",
   "execution_count": 14,
   "metadata": {},
   "outputs": [],
   "source": [
    "# observamos la reduccion tras el filtrado de los datos. Ahora podemos usar data mx para trabajar con datos de la seleccion de mexico\n",
    "# tambien agruparemos los partidos de interes: Mexico vs USA, Mexico vs Brasil, Mexico vs Argentina"
   ]
  },
  {
   "cell_type": "markdown",
   "metadata": {},
   "source": [
    "# Estadística básica de los datos"
   ]
  },
  {
   "cell_type": "code",
   "execution_count": 7,
   "metadata": {},
   "outputs": [
    {
     "data": {
      "text/html": [
       "<div>\n",
       "<style scoped>\n",
       "    .dataframe tbody tr th:only-of-type {\n",
       "        vertical-align: middle;\n",
       "    }\n",
       "\n",
       "    .dataframe tbody tr th {\n",
       "        vertical-align: top;\n",
       "    }\n",
       "\n",
       "    .dataframe thead th {\n",
       "        text-align: right;\n",
       "    }\n",
       "</style>\n",
       "<table border=\"1\" class=\"dataframe\">\n",
       "  <thead>\n",
       "    <tr style=\"text-align: right;\">\n",
       "      <th></th>\n",
       "      <th>date</th>\n",
       "      <th>local</th>\n",
       "      <th>visita</th>\n",
       "      <th>gol_home</th>\n",
       "      <th>gol_away</th>\n",
       "      <th>torneo</th>\n",
       "      <th>city</th>\n",
       "      <th>pais</th>\n",
       "      <th>neutral</th>\n",
       "      <th>df</th>\n",
       "      <th>vic</th>\n",
       "      <th>gana</th>\n",
       "      <th>pierde</th>\n",
       "      <th>empata</th>\n",
       "    </tr>\n",
       "  </thead>\n",
       "  <tbody>\n",
       "    <tr>\n",
       "      <th>0</th>\n",
       "      <td>9/12/1923</td>\n",
       "      <td>Mexico</td>\n",
       "      <td>Guatemala</td>\n",
       "      <td>2</td>\n",
       "      <td>1</td>\n",
       "      <td>Friendly</td>\n",
       "      <td>Mexico City</td>\n",
       "      <td>Mexico</td>\n",
       "      <td>FALSO</td>\n",
       "      <td>1</td>\n",
       "      <td>1</td>\n",
       "      <td>1</td>\n",
       "      <td>0</td>\n",
       "      <td>0</td>\n",
       "    </tr>\n",
       "    <tr>\n",
       "      <th>1</th>\n",
       "      <td>12/12/1923</td>\n",
       "      <td>Mexico</td>\n",
       "      <td>Guatemala</td>\n",
       "      <td>2</td>\n",
       "      <td>0</td>\n",
       "      <td>Friendly</td>\n",
       "      <td>Mexico City</td>\n",
       "      <td>Mexico</td>\n",
       "      <td>FALSO</td>\n",
       "      <td>2</td>\n",
       "      <td>1</td>\n",
       "      <td>1</td>\n",
       "      <td>0</td>\n",
       "      <td>0</td>\n",
       "    </tr>\n",
       "    <tr>\n",
       "      <th>2</th>\n",
       "      <td>16/12/1923</td>\n",
       "      <td>Mexico</td>\n",
       "      <td>Guatemala</td>\n",
       "      <td>3</td>\n",
       "      <td>3</td>\n",
       "      <td>Friendly</td>\n",
       "      <td>Mexico City</td>\n",
       "      <td>Mexico</td>\n",
       "      <td>FALSO</td>\n",
       "      <td>0</td>\n",
       "      <td>3</td>\n",
       "      <td>0</td>\n",
       "      <td>0</td>\n",
       "      <td>1</td>\n",
       "    </tr>\n",
       "    <tr>\n",
       "      <th>3</th>\n",
       "      <td>4/3/1934</td>\n",
       "      <td>Mexico</td>\n",
       "      <td>Cuba</td>\n",
       "      <td>3</td>\n",
       "      <td>2</td>\n",
       "      <td>FIFA World Cup qualification</td>\n",
       "      <td>Mexico City</td>\n",
       "      <td>Mexico</td>\n",
       "      <td>FALSO</td>\n",
       "      <td>1</td>\n",
       "      <td>1</td>\n",
       "      <td>1</td>\n",
       "      <td>0</td>\n",
       "      <td>0</td>\n",
       "    </tr>\n",
       "    <tr>\n",
       "      <th>4</th>\n",
       "      <td>11/3/1934</td>\n",
       "      <td>Mexico</td>\n",
       "      <td>Cuba</td>\n",
       "      <td>5</td>\n",
       "      <td>0</td>\n",
       "      <td>FIFA World Cup qualification</td>\n",
       "      <td>Mexico City</td>\n",
       "      <td>Mexico</td>\n",
       "      <td>FALSO</td>\n",
       "      <td>5</td>\n",
       "      <td>1</td>\n",
       "      <td>1</td>\n",
       "      <td>0</td>\n",
       "      <td>0</td>\n",
       "    </tr>\n",
       "  </tbody>\n",
       "</table>\n",
       "</div>"
      ],
      "text/plain": [
       "         date   local     visita  gol_home  gol_away  \\\n",
       "0   9/12/1923  Mexico  Guatemala         2         1   \n",
       "1  12/12/1923  Mexico  Guatemala         2         0   \n",
       "2  16/12/1923  Mexico  Guatemala         3         3   \n",
       "3    4/3/1934  Mexico       Cuba         3         2   \n",
       "4   11/3/1934  Mexico       Cuba         5         0   \n",
       "\n",
       "                         torneo         city    pais neutral  df  vic  gana  \\\n",
       "0                      Friendly  Mexico City  Mexico   FALSO   1    1     1   \n",
       "1                      Friendly  Mexico City  Mexico   FALSO   2    1     1   \n",
       "2                      Friendly  Mexico City  Mexico   FALSO   0    3     0   \n",
       "3  FIFA World Cup qualification  Mexico City  Mexico   FALSO   1    1     1   \n",
       "4  FIFA World Cup qualification  Mexico City  Mexico   FALSO   5    1     1   \n",
       "\n",
       "   pierde  empata  \n",
       "0       0       0  \n",
       "1       0       0  \n",
       "2       0       1  \n",
       "3       0       0  \n",
       "4       0       0  "
      ]
     },
     "execution_count": 7,
     "metadata": {},
     "output_type": "execute_result"
    }
   ],
   "source": [
    "\n",
    "mx=pd.read_csv(\"Solo_Mex.csv\")\n",
    "\n",
    "mx.head()"
   ]
  },
  {
   "cell_type": "code",
   "execution_count": 23,
   "metadata": {},
   "outputs": [
    {
     "data": {
      "text/plain": [
       "(515, 14)"
      ]
     },
     "execution_count": 23,
     "metadata": {},
     "output_type": "execute_result"
    }
   ],
   "source": [
    "mxloc=mx[mx['local']=='Mexico']\n",
    "mxloc.shape"
   ]
  },
  {
   "cell_type": "code",
   "execution_count": 24,
   "metadata": {},
   "outputs": [
    {
     "data": {
      "text/plain": [
       "(358, 14)"
      ]
     },
     "execution_count": 24,
     "metadata": {},
     "output_type": "execute_result"
    }
   ],
   "source": [
    "mxvst=mx[mx['visita']=='Mexico']\n",
    "mxvst.shape"
   ]
  },
  {
   "cell_type": "code",
   "execution_count": 27,
   "metadata": {},
   "outputs": [
    {
     "data": {
      "text/plain": [
       "count    515.000000\n",
       "mean       2.000000\n",
       "std        1.800346\n",
       "min        0.000000\n",
       "25%        1.000000\n",
       "50%        2.000000\n",
       "75%        3.000000\n",
       "max        9.000000\n",
       "Name: gol_home, dtype: float64"
      ]
     },
     "execution_count": 27,
     "metadata": {},
     "output_type": "execute_result"
    }
   ],
   "source": [
    "mxloc['gol_home'].describe()"
   ]
  },
  {
   "cell_type": "markdown",
   "metadata": {},
   "source": [
    "Usando la función .describe() obtenemos los estadísticos más importantes sore el número de goles anotados por méxico como local. Podemos dar alguna conclusión sobre esto. Por ejemplo, al ser 3 el tercer cuartil. Se puede concluir que el 75% de las veces México ha jugado como local ha anotado 3 goles o menos. Por lo que los resultados cualquier resultado donde México anote más de 3 goles se podría decir que es poco frecuente y claramente entre mayor sea el número de goles más raro será ese resultado, en el caso de México jugando como local."
   ]
  },
  {
   "cell_type": "code",
   "execution_count": 29,
   "metadata": {},
   "outputs": [
    {
     "data": {
      "text/plain": [
       "count    358.000000\n",
       "mean       1.374302\n",
       "std        1.410091\n",
       "min        0.000000\n",
       "25%        0.000000\n",
       "50%        1.000000\n",
       "75%        2.000000\n",
       "max       10.000000\n",
       "Name: gol_away, dtype: float64"
      ]
     },
     "execution_count": 29,
     "metadata": {},
     "output_type": "execute_result"
    }
   ],
   "source": [
    "mxvst['gol_away'].describe()"
   ]
  },
  {
   "cell_type": "markdown",
   "metadata": {},
   "source": [
    "Usando la misma función pero ahora para el caso donde México juega como visitante observamos resultados distintos. Se puede ver como en este caso el tercer cuartil se ubica en 2. Por lo que cuando México juega como visitante el 75% de las ocasiones ha anotado 2 goles o menos. Se revela que el caso donde  México anota 3 goles o menos no es tan frecuente como cuando es local.\n",
    "\n",
    "Aquí podemos ver uno de los primeros indicios de que al menos respecto al número de goles hay menor rendimiento como visitante."
   ]
  },
  {
   "cell_type": "code",
   "execution_count": 40,
   "metadata": {},
   "outputs": [
    {
     "data": {
      "text/plain": [
       "count    303.000000\n",
       "mean       2.425743\n",
       "std        1.753029\n",
       "min        1.000000\n",
       "25%        1.000000\n",
       "50%        2.000000\n",
       "75%        3.000000\n",
       "max        9.000000\n",
       "Name: df, dtype: float64"
      ]
     },
     "execution_count": 40,
     "metadata": {},
     "output_type": "execute_result"
    }
   ],
   "source": [
    "ganamxloc=mxloc[mxloc[\"gana\"]==1]\n",
    "ganamxloc[\"df\"].describe()"
   ]
  },
  {
   "cell_type": "markdown",
   "metadata": {},
   "source": [
    "Aqui tenemos un indicador más interesante. En las apuestas deportivas se puede apostar al margen de victoria, que es la diferencia de goles por la que el equipo ganó un partido. Aqui podemos analizar directamente ese margen de victoria en caso de que México gane por cuanta diferencia de goles fue, Se observa que hay una media de 2.42 y que el 75% de las ocasiones México como local ha ganado por una diferencia de 3,2 o 1 gol."
   ]
  },
  {
   "cell_type": "code",
   "execution_count": 44,
   "metadata": {},
   "outputs": [
    {
     "data": {
      "text/plain": [
       "count    139.000000\n",
       "mean       1.956835\n",
       "std        1.433909\n",
       "min        1.000000\n",
       "25%        1.000000\n",
       "50%        2.000000\n",
       "75%        2.000000\n",
       "max       10.000000\n",
       "Name: df, dtype: float64"
      ]
     },
     "execution_count": 44,
     "metadata": {},
     "output_type": "execute_result"
    }
   ],
   "source": [
    "ganamxvst=mxvst[mxvst[\"gana\"]==1]\n",
    "aganamxvst=abs(ganamxvst[\"df\"])\n",
    "aganamxvst.describe()"
   ]
  },
  {
   "cell_type": "markdown",
   "metadata": {},
   "source": [
    "Aqui hacemos el mismo analisis pero como visitante, y observamos que cuando México gana un partido como visitante el 75% de las ocasiones es por una diferencia de 2 o 1 gol."
   ]
  },
  {
   "cell_type": "code",
   "execution_count": 100,
   "metadata": {},
   "outputs": [
    {
     "data": {
      "text/plain": [
       "<matplotlib.axes._subplots.AxesSubplot at 0x274754959a0>"
      ]
     },
     "execution_count": 100,
     "metadata": {},
     "output_type": "execute_result"
    },
    {
     "data": {
      "image/png": "[encoded data removed]",
      "text/plain": [
       "<Figure size 432x288 with 1 Axes>"
      ]
     },
     "metadata": {
      "needs_background": "light"
     },
     "output_type": "display_data"
    }
   ],
   "source": [
    "sns.boxplot(\n",
    "    x='df',\n",
    "    y='gol_home',\n",
    "    data=mxloc[mxloc[\"gana\"]==1]\n",
    ")"
   ]
  },
  {
   "cell_type": "markdown",
   "metadata": {},
   "source": [
    "Aqui tenemos un ejemplo para indagar más con la diferencia de goles los cuartiles y los goles anotados por México. En esta boxplot es observa los cuartiles correspondientes a cada diferencia de gol y en el eje y se muestra el número de goles anotados por México en ese partido ganado."
   ]
  },
  {
   "cell_type": "code",
   "execution_count": null,
   "metadata": {},
   "outputs": [],
   "source": []
  },
  {
   "cell_type": "markdown",
   "metadata": {},
   "source": [
    "# USO DE GRÁFICAS \n",
    "\n",
    "\n",
    "# Margen de Victoria probabilidad\n",
    "Usaremos las graficas de histograma y KDE para intentar visualizar las probabilidades del Margen de victoria, que es una de las variables favoritas de las personas para hacer apuestas"
   ]
  },
  {
   "cell_type": "code",
   "execution_count": 46,
   "metadata": {},
   "outputs": [
    {
     "data": {
      "text/plain": [
       "<matplotlib.axes._subplots.AxesSubplot at 0x274711122b0>"
      ]
     },
     "execution_count": 46,
     "metadata": {},
     "output_type": "execute_result"
    },
    {
     "data": {
      "image/png": "[encoded data removed]",
      "text/plain": [
       "<Figure size 432x288 with 1 Axes>"
      ]
     },
     "metadata": {
      "needs_background": "light"
     },
     "output_type": "display_data"
    }
   ],
   "source": [
    "aganamxvst.plot.hist()"
   ]
  },
  {
   "cell_type": "markdown",
   "metadata": {},
   "source": [
    "Histograma del margen de victoria de México como Visitante"
   ]
  },
  {
   "cell_type": "code",
   "execution_count": 48,
   "metadata": {},
   "outputs": [
    {
     "data": {
      "text/plain": [
       "<matplotlib.axes._subplots.AxesSubplot at 0x27471393790>"
      ]
     },
     "execution_count": 48,
     "metadata": {},
     "output_type": "execute_result"
    },
    {
     "data": {
      "image/png": "[encoded data removed]",
      "text/plain": [
       "<Figure size 432x288 with 1 Axes>"
      ]
     },
     "metadata": {
      "needs_background": "light"
     },
     "output_type": "display_data"
    }
   ],
   "source": [
    "ganamxloc[\"df\"].plot.hist()"
   ]
  },
  {
   "cell_type": "markdown",
   "metadata": {},
   "source": [
    "Histograma del margen de victoria de México como local."
   ]
  },
  {
   "cell_type": "code",
   "execution_count": 10,
   "metadata": {},
   "outputs": [
    {
     "data": {
      "image/png": "[encoded data removed]",
      "text/plain": [
       "<Figure size 432x288 with 1 Axes>"
      ]
     },
     "metadata": {
      "needs_background": "light"
     },
     "output_type": "display_data"
    }
   ],
   "source": [
    "mxvst=mx[mx['visita']=='Mexico']\n",
    "mxloc=mx[mx['local']=='Mexico']\n",
    "ganamxloc=mxloc[mxloc[\"gana\"]==1]\n",
    "ganamxvst=mxvst[mxvst[\"gana\"]==1]\n",
    "aganamxvst=abs(ganamxvst[\"df\"])\n",
    "m = plt.hist(ganamxloc.df,label = \"Cuando México gana como local\")\n",
    "b = plt.hist(aganamxvst,label = \"Cuando México gana como visitante\")\n",
    "plt.legend()\n",
    "plt.xlabel(\"Margen de victoria\")\n",
    "plt.ylabel(\"Frecuencia\")\n",
    "plt.title(\"Histograma margen de victoria, Local - visitante\")\n",
    "plt.show()"
   ]
  },
  {
   "cell_type": "markdown",
   "metadata": {},
   "source": [
    "Aqui se puede observar los correspondientes histogramas del Margen de victoria de México cuando gana un partido de Local o visita. En estas gráficas obtenemos información importante ya que de primera vista podemos observar un parecido con la distribución exponencial o gamma. Aún así se deben hacer la pruebas correctas para determinar una distribución que se ajuste a los histogramas."
   ]
  },
  {
   "cell_type": "markdown",
   "metadata": {},
   "source": [
    "A continuación usaremos la Kernel Density Estimation Plot para intentar visualizar la función de densidad del Margen de Victoria tanto de local como de visita."
   ]
  },
  {
   "cell_type": "code",
   "execution_count": 85,
   "metadata": {},
   "outputs": [
    {
     "data": {
      "text/plain": [
       "<matplotlib.axes._subplots.AxesSubplot at 0x274749f1d30>"
      ]
     },
     "execution_count": 85,
     "metadata": {},
     "output_type": "execute_result"
    },
    {
     "data": {
      "image/png": "[encoded data removed]",
      "text/plain": [
       "<Figure size 432x288 with 1 Axes>"
      ]
     },
     "metadata": {
      "needs_background": "light"
     },
     "output_type": "display_data"
    }
   ],
   "source": [
    "import seaborn as sns\n",
    "sns.kdeplot(ganamxloc.df)"
   ]
  },
  {
   "cell_type": "markdown",
   "metadata": {},
   "source": [
    "KDE para el margen de victoria cuando México gana como local, podemos observar una forma que  recuerda a la dsitribución gamma."
   ]
  },
  {
   "cell_type": "code",
   "execution_count": 87,
   "metadata": {},
   "outputs": [
    {
     "data": {
      "text/plain": [
       "<matplotlib.axes._subplots.AxesSubplot at 0x27474a63070>"
      ]
     },
     "execution_count": 87,
     "metadata": {},
     "output_type": "execute_result"
    },
    {
     "data": {
      "image/png": "[encoded data removed]",
      "text/plain": [
       "<Figure size 432x288 with 1 Axes>"
      ]
     },
     "metadata": {
      "needs_background": "light"
     },
     "output_type": "display_data"
    }
   ],
   "source": [
    "sns.kdeplot(aganamxvst)"
   ]
  },
  {
   "cell_type": "markdown",
   "metadata": {},
   "source": [
    "KDE para el margen de victoria de México cuando gana como visitante. Aqui la dsitribución tiene una forma un poco más distinta ya que no recuerda tanto a gamma. Otra conclusión interesante es que pareciera haber probabilidades más altas que cuando México gane como visitante será por una diferencia de goles pequeña. Revelando de nuevo que México suele anotar menos goles como visita."
   ]
  },
  {
   "cell_type": "markdown",
   "metadata": {},
   "source": [
    "Obtener la distribución del Margen de victoria es una cuestión interesante de resolver ya que es una de las apuestas favoritas de los fanáticos, ya que se puede obtener grandes cantidades apostando poco. "
   ]
  },
  {
   "cell_type": "markdown",
   "metadata": {},
   "source": [
    "# Probabilidad empírica de ganar un partido\n",
    "aqui mostramos como construir la serie de la evolución probabilidad empírica según el número de observaciones."
   ]
  },
  {
   "cell_type": "code",
   "execution_count": 70,
   "metadata": {},
   "outputs": [
    {
     "data": {
      "text/plain": [
       "1        1\n",
       "2        2\n",
       "3        2\n",
       "4        3\n",
       "5        4\n",
       "      ... \n",
       "511    300\n",
       "512    301\n",
       "513    302\n",
       "514    302\n",
       "515    303\n",
       "Name: gana, Length: 515, dtype: int64"
      ]
     },
     "execution_count": 70,
     "metadata": {},
     "output_type": "execute_result"
    }
   ],
   "source": [
    "datf=mxloc['gana'].cumsum()\n",
    "datf.index=datf.index+1\n",
    "datf\n",
    "\n"
   ]
  },
  {
   "cell_type": "code",
   "execution_count": 71,
   "metadata": {},
   "outputs": [
    {
     "data": {
      "text/html": [
       "<div>\n",
       "<style scoped>\n",
       "    .dataframe tbody tr th:only-of-type {\n",
       "        vertical-align: middle;\n",
       "    }\n",
       "\n",
       "    .dataframe tbody tr th {\n",
       "        vertical-align: top;\n",
       "    }\n",
       "\n",
       "    .dataframe thead th {\n",
       "        text-align: right;\n",
       "    }\n",
       "</style>\n",
       "<table border=\"1\" class=\"dataframe\">\n",
       "  <thead>\n",
       "    <tr style=\"text-align: right;\">\n",
       "      <th></th>\n",
       "      <th>gana</th>\n",
       "    </tr>\n",
       "  </thead>\n",
       "  <tbody>\n",
       "    <tr>\n",
       "      <th>1</th>\n",
       "      <td>1</td>\n",
       "    </tr>\n",
       "    <tr>\n",
       "      <th>2</th>\n",
       "      <td>2</td>\n",
       "    </tr>\n",
       "    <tr>\n",
       "      <th>3</th>\n",
       "      <td>2</td>\n",
       "    </tr>\n",
       "    <tr>\n",
       "      <th>4</th>\n",
       "      <td>3</td>\n",
       "    </tr>\n",
       "    <tr>\n",
       "      <th>5</th>\n",
       "      <td>4</td>\n",
       "    </tr>\n",
       "    <tr>\n",
       "      <th>...</th>\n",
       "      <td>...</td>\n",
       "    </tr>\n",
       "    <tr>\n",
       "      <th>511</th>\n",
       "      <td>300</td>\n",
       "    </tr>\n",
       "    <tr>\n",
       "      <th>512</th>\n",
       "      <td>301</td>\n",
       "    </tr>\n",
       "    <tr>\n",
       "      <th>513</th>\n",
       "      <td>302</td>\n",
       "    </tr>\n",
       "    <tr>\n",
       "      <th>514</th>\n",
       "      <td>302</td>\n",
       "    </tr>\n",
       "    <tr>\n",
       "      <th>515</th>\n",
       "      <td>303</td>\n",
       "    </tr>\n",
       "  </tbody>\n",
       "</table>\n",
       "<p>515 rows × 1 columns</p>\n",
       "</div>"
      ],
      "text/plain": [
       "     gana\n",
       "1       1\n",
       "2       2\n",
       "3       2\n",
       "4       3\n",
       "5       4\n",
       "..    ...\n",
       "511   300\n",
       "512   301\n",
       "513   302\n",
       "514   302\n",
       "515   303\n",
       "\n",
       "[515 rows x 1 columns]"
      ]
     },
     "execution_count": 71,
     "metadata": {},
     "output_type": "execute_result"
    }
   ],
   "source": [
    "probaemp=pd.DataFrame(datf)\n",
    "\n",
    "probaemp"
   ]
  },
  {
   "cell_type": "code",
   "execution_count": 72,
   "metadata": {},
   "outputs": [
    {
     "data": {
      "text/plain": [
       "1      1.000000\n",
       "2      1.000000\n",
       "3      0.666667\n",
       "4      0.750000\n",
       "5      0.800000\n",
       "         ...   \n",
       "511    0.587084\n",
       "512    0.587891\n",
       "513    0.588694\n",
       "514    0.587549\n",
       "515    0.588350\n",
       "Length: 515, dtype: float64"
      ]
     },
     "execution_count": 72,
     "metadata": {},
     "output_type": "execute_result"
    }
   ],
   "source": [
    "serie=probaemp['gana'] / probaemp.index\n",
    "\n",
    "serie"
   ]
  },
  {
   "cell_type": "markdown",
   "metadata": {},
   "source": [
    "Aqui se tiene la serie ya construida ahora se puede graficar"
   ]
  },
  {
   "cell_type": "code",
   "execution_count": 73,
   "metadata": {},
   "outputs": [
    {
     "data": {
      "text/plain": [
       "<matplotlib.axes._subplots.AxesSubplot at 0x274726911c0>"
      ]
     },
     "execution_count": 73,
     "metadata": {},
     "output_type": "execute_result"
    },
    {
     "data": {
      "image/png": "[encoded data removed]",
      "text/plain": [
       "<Figure size 432x288 with 1 Axes>"
      ]
     },
     "metadata": {
      "needs_background": "light"
     },
     "output_type": "display_data"
    }
   ],
   "source": [
    "serie.plot.line()"
   ]
  },
  {
   "cell_type": "markdown",
   "metadata": {},
   "source": [
    "Aqui se puede observar la evolución de la probabilidad empírica a lo largo que aumenta el número de observaciones. Se puede hacer zoom para ver mejor las ultimas 100 observaciones para el caro México jugando como local."
   ]
  },
  {
   "cell_type": "code",
   "execution_count": 83,
   "metadata": {},
   "outputs": [
    {
     "data": {
      "text/plain": [
       "<matplotlib.axes._subplots.AxesSubplot at 0x274728adfd0>"
      ]
     },
     "execution_count": 83,
     "metadata": {},
     "output_type": "execute_result"
    },
    {
     "data": {
      "image/png": "[encoded data removed]",
      "text/plain": [
       "<Figure size 432x288 with 1 Axes>"
      ]
     },
     "metadata": {
      "needs_background": "light"
     },
     "output_type": "display_data"
    }
   ],
   "source": [
    "serie.plot.line(xlim=[400,500],ylim=[0.5,0.6])"
   ]
  },
  {
   "cell_type": "markdown",
   "metadata": {},
   "source": [
    "Aqui tenemos una serie que representa la evolucíón  probabildad empírica de que México gane un partido como local"
   ]
  },
  {
   "cell_type": "code",
   "execution_count": 82,
   "metadata": {},
   "outputs": [
    {
     "data": {
      "text/plain": [
       "<matplotlib.axes._subplots.AxesSubplot at 0x2747284aee0>"
      ]
     },
     "execution_count": 82,
     "metadata": {},
     "output_type": "execute_result"
    },
    {
     "data": {
      "image/png": "[encoded data removed]",
      "text/plain": [
       "<Figure size 432x288 with 1 Axes>"
      ]
     },
     "metadata": {
      "needs_background": "light"
     },
     "output_type": "display_data"
    }
   ],
   "source": [
    "datfvst=mxvst['gana'].cumsum()\n",
    "datfvst.index=datfvst.index-514\n",
    "\n",
    "probaempvst=pd.DataFrame(datfvst)\n",
    "serievst=probaempvst['gana'] / probaempvst.index\n",
    "\n",
    "serievst.plot.line()"
   ]
  },
  {
   "cell_type": "code",
   "execution_count": 84,
   "metadata": {},
   "outputs": [
    {
     "data": {
      "text/plain": [
       "<matplotlib.axes._subplots.AxesSubplot at 0x274728fb5e0>"
      ]
     },
     "execution_count": 84,
     "metadata": {},
     "output_type": "execute_result"
    },
    {
     "data": {
      "image/png": "[encoded data removed]",
      "text/plain": [
       "<Figure size 432x288 with 1 Axes>"
      ]
     },
     "metadata": {
      "needs_background": "light"
     },
     "output_type": "display_data"
    }
   ],
   "source": [
    "serievst.plot.line(xlim=[250,350],ylim=[0.3,0.4])"
   ]
  },
  {
   "cell_type": "markdown",
   "metadata": {},
   "source": [
    "Aqui tenemos la evolución de la probabilidad empírica de que México gane un partido como visitante para las ultimas 100 observaciones."
   ]
  },
  {
   "cell_type": "markdown",
   "metadata": {},
   "source": [
    "# Conclusiones\n",
    "Con a las gráficas pudimos obtener información muy útil para  las preguntas de interés. Con el histograma  y finalmente con el KDE pudimos visualizar la probabilidad del margen de victoria de México cuando gana un partido, se podría usar este método KDE para con los datos historícos que tenemos estimar la probabilidad del margen de goles en caso de victoria.  \n",
    "\n",
    "También con la gráfica de lineas pudimos ver el estado reciente de la probabilidad empírica de ganar un partido, esto construido con las observaciónes historicas. Observamos que como local esta probabilidad está muy estable  entre 0.58 y 0.59. \n",
    " Como visitante esta probabilidad se encuentra flucutuando 0.36 y 0.38 si bien puede ser un tanto estable, es evidente que además de ser menor al caso de local tambíén fluctua un poco más, pero por si misma también muestra estabilidad durante los tiempos recientes."
   ]
  },
  {
   "cell_type": "code",
   "execution_count": null,
   "metadata": {},
   "outputs": [],
   "source": []
  }
 ],
 "metadata": {
  "kernelspec": {
   "display_name": "Python 3",
   "language": "python",
   "name": "python3"
  },
  "language_info": {
   "codemirror_mode": {
    "name": "ipython",
    "version": 3
   },
   "file_extension": ".py",
   "mimetype": "text/x-python",
   "name": "python",
   "nbconvert_exporter": "python",
   "pygments_lexer": "ipython3",
   "version": "3.8.3"
  }
 },
 "nbformat": 4,
 "nbformat_minor": 4
}
